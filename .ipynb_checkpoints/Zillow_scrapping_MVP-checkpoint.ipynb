{
 "cells": [
  {
   "cell_type": "code",
   "execution_count": 322,
   "metadata": {
    "collapsed": false
   },
   "outputs": [
    {
     "name": "stdout",
     "output_type": "stream",
     "text": [
      "Requirement already satisfied: beautifulsoup4 in /Users/zybell/anaconda2/lib/python2.7/site-packages\r\n"
     ]
    }
   ],
   "source": [
    "## Import beautiful soup to scrape data from Zillow\n",
    "!pip install beautifulsoup4\n",
    "import requests\n",
    "from bs4 import BeautifulSoup"
   ]
  },
  {
   "cell_type": "code",
   "execution_count": null,
   "metadata": {
    "collapsed": false
   },
   "outputs": [],
   "source": [
    "zipcode = raw_input(\"Type a zipcode\")\n",
    "url= \"https://www.zillow.com/homes/\"+zipcode +\"_rb/\"\n",
    "print url"
   ]
  },
  {
   "cell_type": "code",
   "execution_count": null,
   "metadata": {
    "collapsed": true
   },
   "outputs": [],
   "source": [
    "r = requests.get(url)\n",
    "#r.content"
   ]
  },
  {
   "cell_type": "code",
   "execution_count": null,
   "metadata": {
    "collapsed": true
   },
   "outputs": [],
   "source": [
    "class Property(object):\n",
    "    \"\"\"A property listed on Zillow\n",
    "\n",
    "\n",
    "    Attributes:\n",
    "        address: The address of the property as a string.\n",
    "        bed: An integer representing the number of bedrooms the property has.\n",
    "        bath: A float representing the no. of bathrooms the property has\n",
    "        size: An interger representing the sqft of the property\n",
    "        price: An interger representing the price of the property\n",
    "    \"\"\"\n",
    "\n",
    "\n",
    "    def __init__(self):\n",
    "        self.address = \"\"\n",
    "        self.bed = 0.0\n",
    "        self.bath = 0.0\n",
    "        self.size = 0.0\n",
    "        self.price = 0.0\n",
    "        \n",
    "    def price_per_sqft(self):\n",
    "        \"\"\"Return the sale price for this vehicle as a float amount.\"\"\"\n",
    "        if self.size != 0.0:\n",
    "            pps = self.price/(self.size)\n",
    "        else:\n",
    "            pps = \"Empty\"\n",
    "        return pps\n",
    "    \n",
    "    def price_per_bed(self):\n",
    "        if self.bed != 0.0:\n",
    "            ppb = self.price/self.bed\n",
    "        else:\n",
    "            ppb = \"Empty\"\n",
    "        \"\"\"Return the sale price for this vehicle as a float amount.\"\"\"\n",
    "        return ppb"
   ]
  },
  {
   "cell_type": "code",
   "execution_count": null,
   "metadata": {
    "collapsed": false
   },
   "outputs": [],
   "source": [
    "soup = BeautifulSoup(r.content)"
   ]
  },
  {
   "cell_type": "code",
   "execution_count": null,
   "metadata": {
    "collapsed": false
   },
   "outputs": [],
   "source": [
    "print soup.prettify()"
   ]
  },
  {
   "cell_type": "code",
   "execution_count": null,
   "metadata": {
    "collapsed": false
   },
   "outputs": [],
   "source": [
    "for item in soup.find_all(\"span\"):\n",
    "   print item.get(\"class\")"
   ]
  },
  {
   "cell_type": "code",
   "execution_count": null,
   "metadata": {
    "collapsed": false
   },
   "outputs": [],
   "source": [
    "for item in soup.find_all(\"span\"):\n",
    "        print item.text"
   ]
  },
  {
   "cell_type": "code",
   "execution_count": null,
   "metadata": {
    "collapsed": false
   },
   "outputs": [],
   "source": [
    "for item in soup.find_all(\"span\"):\n",
    "    if item.get('class')==['zsg-photo-card-info']:\n",
    "        print item.text"
   ]
  },
  {
   "cell_type": "code",
   "execution_count": null,
   "metadata": {
    "collapsed": false
   },
   "outputs": [],
   "source": [
    "for item in soup.find_all(\"div\"):\n",
    "    if item.get('class')==['zsg-photo-card-caption']:\n",
    "        print item.text"
   ]
  },
  {
   "cell_type": "code",
   "execution_count": null,
   "metadata": {
    "collapsed": false
   },
   "outputs": [],
   "source": [
    "print info.split()[0]"
   ]
  },
  {
   "cell_type": "code",
   "execution_count": null,
   "metadata": {
    "collapsed": false
   },
   "outputs": [],
   "source": [
    "info.split()[0] + \" \" + info.split()[6]"
   ]
  },
  {
   "cell_type": "code",
   "execution_count": null,
   "metadata": {
    "collapsed": false
   },
   "outputs": [],
   "source": [
    "Zillow = {}\n",
    "id = 0\n",
    "for item in soup.find_all(\"div\", {'class':'zsg-photo-card-caption'}):\n",
    "#    if item.get('class')==['zsg-photo-card-caption']:\n",
    "        P = Property()\n",
    "        for i in item.find_all(\"span\"):\n",
    "            if i.get('class')==['zsg-photo-card-price']:\n",
    "                P.price = float(i.text.replace(\"$\",\"\").replace(\"/mo\",\"\").replace(\",\",\"\"))\n",
    "                if P.price == 0.0:\n",
    "                    P.price = NA\n",
    "            else: \n",
    "                pass\n",
    "            if i.get('class')==['zsg-photo-card-info'] and P.price: #P.price needs to exist to proceed on info and address\n",
    "                P.info = i.text #info needs to be sliced\n",
    "                P.bed = float(P.info.split()[0]) #This number can be 0\n",
    "                P.bath = float(P.info.split()[3])\n",
    "                P.size = float(P.info.split()[6].replace(\"--\",\"0\").replace(\"sqft\",\"0\").replace(\",\",\"\")) #This number can be \"0\"\n",
    "            if i.get('class')==['zsg-photo-card-address'] and P.price:\n",
    "                P.address = i.text  \n",
    "                #print P.address\n",
    "        print str(P.price)+\" price\\n\"+ str(P.bed)+\" bed\\n\"+ str(P.bath)+\" bath\\n\"+ str(P.size)+\" size\\n\"+str(P.address) +\" address\\n\"+str(P.price_per_sqft())+\" price_per_sqft\\n\\n\\n\"\n",
    "        Zillow.update({id:P})\n",
    "        id+=1\n",
    "        \n",
    "##info 1$1,585+2$2,145+\n",
    "##adress 500 Broadway, Malden, MA\n",
    "\n",
    "####We do not want it when price is empty\n",
    "\n",
    "##price $1,700/mo\n",
    "##info 2 bds · 1 ba · -- sqft\n",
    "##adress Newman Rd, Malden, MA\n",
    "\n",
    "####This is the type we want"
   ]
  },
  {
   "cell_type": "code",
   "execution_count": null,
   "metadata": {
    "collapsed": false
   },
   "outputs": [],
   "source": [
    "for i in range(0,id):\n",
    "    print str(Zillow[i].price) + '   ' + str(Zillow[i].bed) + '   '  + str(Zillow[i].size)+ '   ' + Zillow[i].address"
   ]
  },
  {
   "cell_type": "code",
   "execution_count": null,
   "metadata": {
    "collapsed": false
   },
   "outputs": [],
   "source": [
    "for item in soup.find_all(\"div\", {'class':'zsg-photo-card-caption'}):\n",
    "    #print item.contents[0].text #Apartment For Rent\n",
    "    #print item.contents[1].text #1$1,585+2$2,145+ #$239,9002 bds · 1 ba · 738 sqft\n",
    "    #print item.contents[2].text #18 hours ago·20 Park View Ter # 000, Malden, MA\n",
    "    print item.contents[1].find_all(\"span\")[0].text #$1,500/mo\n",
    "    #print item.contents[1].find_all(\"span\", {'class':'interpunct'}) #1 bd · 1 ba · -- sqft"
   ]
  },
  {
   "cell_type": "code",
   "execution_count": null,
   "metadata": {
    "collapsed": true
   },
   "outputs": [],
   "source": [
    "## Use the Zillow API, PyZillow to get real estate data"
   ]
  },
  {
   "cell_type": "code",
   "execution_count": null,
   "metadata": {
    "collapsed": false
   },
   "outputs": [],
   "source": [
    "# Install pyzillow\n",
    "import os\n",
    "import argparse\n",
    "import random\n",
    "!pip install pyzillow"
   ]
  },
  {
   "cell_type": "code",
   "execution_count": null,
   "metadata": {
    "collapsed": false
   },
   "outputs": [],
   "source": [
    "from pytest import raises\n",
    "from pyzillow.pyzillow import (\n",
    "    ZillowWrapper,\n",
    "    GetDeepSearchResults,\n",
    "    GetUpdatedPropertyDetails\n",
    ")\n",
    "from pyzillow.pyzillowerrors import ZillowError"
   ]
  },
  {
   "cell_type": "code",
   "execution_count": null,
   "metadata": {
    "collapsed": false
   },
   "outputs": [],
   "source": [
    "ZILLOW_API_KEY = 'X1-ZWz1fqbdcssbgr_8tgid'\n",
    "zillow_data = ZillowWrapper(ZILLOW_API_KEY)\n",
    "# create zillow_data\n",
    "type(zillow_data)"
   ]
  },
  {
   "cell_type": "code",
   "execution_count": null,
   "metadata": {
    "collapsed": false
   },
   "outputs": [],
   "source": [
    "address = '892 E 2nd St,South Boston, MA'\n",
    "zipcode = '02127'\n",
    "deep_search_response = zillow_data.get_deep_search_results(address, zipcode)\n",
    "result = GetDeepSearchResults(deep_search_response)\n",
    "zil_prop = list()\n",
    "#result.zillow_id\n",
    "\n",
    "zil = [result.zillow_id, result.home_type, result.bedrooms, result.bathrooms, result.property_size]\n",
    "zil"
   ]
  },
  {
   "cell_type": "code",
   "execution_count": null,
   "metadata": {
    "collapsed": false
   },
   "outputs": [],
   "source": [
    "zillow_id = '59151927'\n",
    "updated_property_details_response = zillow_data.get_updated_property_details(zillow_id)\n",
    "result = GetUpdatedPropertyDetails(updated_property_details_response)\n",
    "result.rooms # number of rooms of the home"
   ]
  },
  {
   "cell_type": "code",
   "execution_count": null,
   "metadata": {
    "collapsed": false
   },
   "outputs": [],
   "source": [
    "from pyzillow.pyzillow import ZillowWrapper, GetUpdatedPropertyDetails\n",
    "zillow_id = '59151927' #Your Zillow ID\n",
    "\n",
    "updated_property_details_response = zillow_data.get_updated_property_details(zillow_id)\n",
    "result = GetUpdatedPropertyDetails(updated_property_details_response)\n",
    "result.rooms # number of rooms of the home"
   ]
  },
  {
   "cell_type": "code",
   "execution_count": null,
   "metadata": {
    "collapsed": false
   },
   "outputs": [],
   "source": [
    "## Use flowzillow https://github.com/hahnicity/flowzillow search in an area\n",
    "!pip install flowzillow==0.1.3"
   ]
  },
  {
   "cell_type": "code",
   "execution_count": null,
   "metadata": {
    "collapsed": false
   },
   "outputs": [],
   "source": [
    "from flowzillow.client import SearchClient\n",
    "\n",
    "search_client = SearchClient()\n",
    "#search_client.search((lat1, long1), (lat2, long2))\n",
    "search_client.search((40, -100), (50, -60.057083))"
   ]
  },
  {
   "cell_type": "code",
   "execution_count": null,
   "metadata": {
    "collapsed": true
   },
   "outputs": [],
   "source": [
    "zid110 = Property(bed, bath, address, size, price)\n",
    "\n",
    "zid110.price_per_sqft # 371\n",
    "\n",
    "D = {110: zid110, 111: zid111}\n",
    "\n",
    "mean(D.values().price_pr_sqft)"
   ]
  }
 ],
 "metadata": {
  "kernelspec": {
   "display_name": "Python [conda root]",
   "language": "python",
   "name": "conda-root-py"
  },
  "language_info": {
   "codemirror_mode": {
    "name": "ipython",
    "version": 2
   },
   "file_extension": ".py",
   "mimetype": "text/x-python",
   "name": "python",
   "nbconvert_exporter": "python",
   "pygments_lexer": "ipython2",
   "version": "2.7.13"
  }
 },
 "nbformat": 4,
 "nbformat_minor": 2
}
