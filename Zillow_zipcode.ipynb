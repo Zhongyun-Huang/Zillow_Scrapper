{
 "cells": [
  {
   "cell_type": "markdown",
   "metadata": {},
   "source": [
    "# Zillow for a Zipcode\n"
   ]
  },
  {
   "cell_type": "markdown",
   "metadata": {},
   "source": [
    "This tool allows users to enter a zipcode, and see the following stats:\n",
    "(1) Ave price of a property\n",
    "(2) Ave no.beds of a property\n",
    "(3) Ave no.baths of a property\n",
    "(4) Ave price per beds\n",
    "(5) Ave price per bath"
   ]
  },
  {
   "cell_type": "code",
   "execution_count": 161,
   "metadata": {
    "collapsed": false
   },
   "outputs": [
    {
     "name": "stdout",
     "output_type": "stream",
     "text": [
      "Requirement already satisfied: beautifulsoup4 in /Users/zybell/anaconda2/lib/python2.7/site-packages\r\n"
     ]
    }
   ],
   "source": [
    "## Import beautiful soup to scrape data from Zillow\n",
    "!pip install beautifulsoup4\n",
    "import requests\n",
    "from bs4 import BeautifulSoup"
   ]
  },
  {
   "cell_type": "code",
   "execution_count": 162,
   "metadata": {
    "collapsed": true
   },
   "outputs": [],
   "source": [
    "## Import pandas\n",
    "import pandas as pd"
   ]
  },
  {
   "cell_type": "code",
   "execution_count": 123,
   "metadata": {
    "collapsed": false
   },
   "outputs": [
    {
     "name": "stdout",
     "output_type": "stream",
     "text": [
      " Type a zipcode 46033\n",
      " There are 202 properties listed in the zipcode of 46033\n"
     ]
    }
   ],
   "source": [
    "# Make a property list for a zipcode\n",
    "property_list=[]\n",
    "zipcode = raw_input(\" Type a zipcode \")\n",
    "count = 1\n",
    "url = \"https://www.zillow.com/homes/\"+zipcode +\"_rb/\"+ str(count) +'_p/'\n",
    "r = requests.get(url)\n",
    "soup = BeautifulSoup(r.content) #make a soup for each url\n",
    "prop_info = soup.find_all(\"div\",{\"class\":\"zsg-photo-card-caption\"})\n",
    "\n",
    "while soup.find_all(\"li\", {'class':'zsg-pagination-next'}):\n",
    "    #keep running the loop if there is a next bottom\n",
    "    #Save all items in the new page to the property_list\n",
    "    for item in prop_info:\n",
    "        for i in item.find_all(\"span\"):\n",
    "            if i.get('class')==['zsg-photo-card-status']:\n",
    "                try: \n",
    "                    status = i.text\n",
    "                except:\n",
    "                    status = 'NA'               \n",
    "            if i.get('class')==['zsg-photo-card-price']:\n",
    "                try:\n",
    "                    price = float(i.text.replace(\"$\",\"\").replace(\"/mo\",\"\").replace(\",\",\"\").replace(\"+\",\"\"))\n",
    "                except:\n",
    "                    price = 0.0\n",
    "            if i.get('class')==['zsg-photo-card-info']:\n",
    "                info = i.text.replace(\"Studio\",\"0.5 bd\")\n",
    "                try:\n",
    "                    bed = float(info.split()[0]) \n",
    "                except:\n",
    "                    bed = 0.0\n",
    "                try:\n",
    "                    bath = float(info.split()[3])\n",
    "                except:\n",
    "                    bath = 0.0\n",
    "                try:\n",
    "                    size = float(info.split()[6].replace(\"--\",\"0\").replace(\"sqft\",\"0\").replace(\",\",\"\").replace(\"+\",\"\"))\n",
    "                except:\n",
    "                    size = 0.0\n",
    "            if i.get('class')==['zsg-photo-card-address']:\n",
    "                try:\n",
    "                    address = i.text\n",
    "                except:\n",
    "                    address = ''\n",
    "        prop=[status,price,bed,bath,size,address]\n",
    "        property_list.append(prop)\n",
    "        \n",
    "    #Make a new soup if the next page exists    \n",
    "    count = count + 1\n",
    "    url = \"https://www.zillow.com/homes/\"+zipcode +\"_rb/\"+ str(count) +'_p/'\n",
    "    r = requests.get(url)\n",
    "    soup = BeautifulSoup(r.content) #make a soup for each url\n",
    "    prop_info = soup.find_all(\"div\",{\"class\":\"zsg-photo-card-caption\"})\n",
    "\n",
    "print ' There are ' + str(len(property_list)) + \" properties listed in the zipcode of \" + zipcode"
   ]
  },
  {
   "cell_type": "code",
   "execution_count": 124,
   "metadata": {
    "collapsed": false
   },
   "outputs": [],
   "source": [
    "# Save the properties (in property_list) found in the zipcode to a pandas dataframe\n",
    "labels = ['status','price','bed','bath','size','address']\n",
    "df = pd.DataFrame.from_records(property_list, columns = labels)"
   ]
  },
  {
   "cell_type": "code",
   "execution_count": 125,
   "metadata": {
    "collapsed": false
   },
   "outputs": [
    {
     "data": {
      "text/html": [
       "<div>\n",
       "<table border=\"1\" class=\"dataframe\">\n",
       "  <thead>\n",
       "    <tr style=\"text-align: right;\">\n",
       "      <th></th>\n",
       "      <th>status</th>\n",
       "      <th>price</th>\n",
       "      <th>bed</th>\n",
       "      <th>bath</th>\n",
       "      <th>size</th>\n",
       "      <th>address</th>\n",
       "    </tr>\n",
       "  </thead>\n",
       "  <tbody>\n",
       "    <tr>\n",
       "      <th>0</th>\n",
       "      <td>For Sale by Owner</td>\n",
       "      <td>424900.0</td>\n",
       "      <td>5.0</td>\n",
       "      <td>3.0</td>\n",
       "      <td>3300.0</td>\n",
       "      <td>11626 Forest Dr, Carmel, IN</td>\n",
       "    </tr>\n",
       "    <tr>\n",
       "      <th>1</th>\n",
       "      <td>House For Sale</td>\n",
       "      <td>397750.0</td>\n",
       "      <td>4.0</td>\n",
       "      <td>3.0</td>\n",
       "      <td>4170.0</td>\n",
       "      <td>14902 W Black Wolf Run Dr, Carmel, IN</td>\n",
       "    </tr>\n",
       "    <tr>\n",
       "      <th>2</th>\n",
       "      <td>House For Sale</td>\n",
       "      <td>529900.0</td>\n",
       "      <td>5.0</td>\n",
       "      <td>4.0</td>\n",
       "      <td>6697.0</td>\n",
       "      <td>12427 Pebble Knoll Way, Carmel, IN</td>\n",
       "    </tr>\n",
       "    <tr>\n",
       "      <th>3</th>\n",
       "      <td>House For Rent</td>\n",
       "      <td>1800.0</td>\n",
       "      <td>4.0</td>\n",
       "      <td>2.5</td>\n",
       "      <td>2743.0</td>\n",
       "      <td>11644 Victoria Ct, Carmel, IN</td>\n",
       "    </tr>\n",
       "    <tr>\n",
       "      <th>4</th>\n",
       "      <td>House For Sale</td>\n",
       "      <td>849900.0</td>\n",
       "      <td>5.0</td>\n",
       "      <td>6.0</td>\n",
       "      <td>7348.0</td>\n",
       "      <td>5041 Deer Ridge Ct, Carmel, IN</td>\n",
       "    </tr>\n",
       "  </tbody>\n",
       "</table>\n",
       "</div>"
      ],
      "text/plain": [
       "              status     price  bed  bath    size  \\\n",
       "0  For Sale by Owner  424900.0  5.0   3.0  3300.0   \n",
       "1     House For Sale  397750.0  4.0   3.0  4170.0   \n",
       "2     House For Sale  529900.0  5.0   4.0  6697.0   \n",
       "3     House For Rent    1800.0  4.0   2.5  2743.0   \n",
       "4     House For Sale  849900.0  5.0   6.0  7348.0   \n",
       "\n",
       "                                 address  \n",
       "0            11626 Forest Dr, Carmel, IN  \n",
       "1  14902 W Black Wolf Run Dr, Carmel, IN  \n",
       "2     12427 Pebble Knoll Way, Carmel, IN  \n",
       "3          11644 Victoria Ct, Carmel, IN  \n",
       "4         5041 Deer Ridge Ct, Carmel, IN  "
      ]
     },
     "execution_count": 125,
     "metadata": {},
     "output_type": "execute_result"
    }
   ],
   "source": [
    "df.head()"
   ]
  },
  {
   "cell_type": "code",
   "execution_count": 126,
   "metadata": {
    "collapsed": false
   },
   "outputs": [
    {
     "data": {
      "text/html": [
       "<div>\n",
       "<table border=\"1\" class=\"dataframe\">\n",
       "  <thead>\n",
       "    <tr style=\"text-align: right;\">\n",
       "      <th></th>\n",
       "      <th>price</th>\n",
       "      <th>bed</th>\n",
       "      <th>bath</th>\n",
       "      <th>size</th>\n",
       "    </tr>\n",
       "  </thead>\n",
       "  <tbody>\n",
       "    <tr>\n",
       "      <th>count</th>\n",
       "      <td>2.020000e+02</td>\n",
       "      <td>202.000000</td>\n",
       "      <td>202.000000</td>\n",
       "      <td>202.000000</td>\n",
       "    </tr>\n",
       "    <tr>\n",
       "      <th>mean</th>\n",
       "      <td>4.591700e+05</td>\n",
       "      <td>3.798020</td>\n",
       "      <td>3.492574</td>\n",
       "      <td>3783.153465</td>\n",
       "    </tr>\n",
       "    <tr>\n",
       "      <th>std</th>\n",
       "      <td>3.002416e+05</td>\n",
       "      <td>1.415356</td>\n",
       "      <td>1.595608</td>\n",
       "      <td>2051.690615</td>\n",
       "    </tr>\n",
       "    <tr>\n",
       "      <th>min</th>\n",
       "      <td>0.000000e+00</td>\n",
       "      <td>0.000000</td>\n",
       "      <td>0.000000</td>\n",
       "      <td>0.000000</td>\n",
       "    </tr>\n",
       "    <tr>\n",
       "      <th>25%</th>\n",
       "      <td>2.899248e+05</td>\n",
       "      <td>3.000000</td>\n",
       "      <td>3.000000</td>\n",
       "      <td>2448.000000</td>\n",
       "    </tr>\n",
       "    <tr>\n",
       "      <th>50%</th>\n",
       "      <td>4.359950e+05</td>\n",
       "      <td>4.000000</td>\n",
       "      <td>3.000000</td>\n",
       "      <td>3778.000000</td>\n",
       "    </tr>\n",
       "    <tr>\n",
       "      <th>75%</th>\n",
       "      <td>5.899000e+05</td>\n",
       "      <td>5.000000</td>\n",
       "      <td>4.000000</td>\n",
       "      <td>5105.500000</td>\n",
       "    </tr>\n",
       "    <tr>\n",
       "      <th>max</th>\n",
       "      <td>1.999999e+06</td>\n",
       "      <td>6.000000</td>\n",
       "      <td>8.000000</td>\n",
       "      <td>10860.000000</td>\n",
       "    </tr>\n",
       "  </tbody>\n",
       "</table>\n",
       "</div>"
      ],
      "text/plain": [
       "              price         bed        bath          size\n",
       "count  2.020000e+02  202.000000  202.000000    202.000000\n",
       "mean   4.591700e+05    3.798020    3.492574   3783.153465\n",
       "std    3.002416e+05    1.415356    1.595608   2051.690615\n",
       "min    0.000000e+00    0.000000    0.000000      0.000000\n",
       "25%    2.899248e+05    3.000000    3.000000   2448.000000\n",
       "50%    4.359950e+05    4.000000    3.000000   3778.000000\n",
       "75%    5.899000e+05    5.000000    4.000000   5105.500000\n",
       "max    1.999999e+06    6.000000    8.000000  10860.000000"
      ]
     },
     "execution_count": 126,
     "metadata": {},
     "output_type": "execute_result"
    }
   ],
   "source": [
    "df.describe()"
   ]
  },
  {
   "cell_type": "code",
   "execution_count": 152,
   "metadata": {
    "collapsed": true
   },
   "outputs": [],
   "source": [
    "df_sale = df[df.status == \"House For Sale\"]"
   ]
  },
  {
   "cell_type": "code",
   "execution_count": 154,
   "metadata": {
    "collapsed": false
   },
   "outputs": [
    {
     "name": "stdout",
     "output_type": "stream",
     "text": [
      "4.30952380952\n"
     ]
    }
   ],
   "source": [
    "mean_bed = df_sale.describe()['bed']['mean']\n",
    "print mean_bed"
   ]
  },
  {
   "cell_type": "code",
   "execution_count": 156,
   "metadata": {
    "collapsed": false
   },
   "outputs": [
    {
     "name": "stdout",
     "output_type": "stream",
     "text": [
      "4.02380952381\n"
     ]
    }
   ],
   "source": [
    "mean_bath = df_sale.describe()['bath']['mean']\n",
    "print mean_bath"
   ]
  },
  {
   "cell_type": "code",
   "execution_count": 157,
   "metadata": {
    "collapsed": false
   },
   "outputs": [
    {
     "name": "stdout",
     "output_type": "stream",
     "text": [
      "4567.5952381\n"
     ]
    }
   ],
   "source": [
    "mean_size = df_sale.describe()['size']['mean']\n",
    "print mean_size"
   ]
  },
  {
   "cell_type": "code",
   "execution_count": 158,
   "metadata": {
    "collapsed": false
   },
   "outputs": [
    {
     "name": "stdout",
     "output_type": "stream",
     "text": [
      "533938\n"
     ]
    }
   ],
   "source": [
    "mean_price = int(df_sale.describe()['price']['mean'])\n",
    "print mean_price"
   ]
  },
  {
   "cell_type": "code",
   "execution_count": 159,
   "metadata": {
    "collapsed": false
   },
   "outputs": [
    {
     "name": "stdout",
     "output_type": "stream",
     "text": [
      "116.896960472\n"
     ]
    }
   ],
   "source": [
    "mean_price_p_sqft = mean_price/mean_size\n",
    "print mean_price_p_sqft"
   ]
  },
  {
   "cell_type": "code",
   "execution_count": 160,
   "metadata": {
    "collapsed": false
   },
   "outputs": [
    {
     "name": "stdout",
     "output_type": "stream",
     "text": [
      "123897.21547\n"
     ]
    }
   ],
   "source": [
    "mean_price_p_b = mean_price/mean_bed\n",
    "print mean_price_p_b"
   ]
  },
  {
   "cell_type": "code",
   "execution_count": 149,
   "metadata": {
    "collapsed": false
   },
   "outputs": [
    {
     "data": {
      "text/plain": [
       "House For Sale               126\n",
       "Pre-Foreclosure (Auction)     21\n",
       "House For Rent                17\n",
       "New Construction              16\n",
       "For Sale by Owner              7\n",
       "Make Me Move®                  4\n",
       "Lot/Land For Sale              3\n",
       "Condo For Rent                 2\n",
       "Townhouse For Rent             2\n",
       "Auction                        2\n",
       "Woodland Springs Manor         1\n",
       "Foreclosure                    1\n",
       "Name: status, dtype: int64"
      ]
     },
     "execution_count": 149,
     "metadata": {},
     "output_type": "execute_result"
    }
   ],
   "source": [
    "df.status.value_counts()"
   ]
  },
  {
   "cell_type": "code",
   "execution_count": 153,
   "metadata": {
    "collapsed": false
   },
   "outputs": [
    {
     "data": {
      "text/html": [
       "<div>\n",
       "<table border=\"1\" class=\"dataframe\">\n",
       "  <thead>\n",
       "    <tr style=\"text-align: right;\">\n",
       "      <th></th>\n",
       "      <th>status</th>\n",
       "      <th>price</th>\n",
       "      <th>bed</th>\n",
       "      <th>bath</th>\n",
       "      <th>size</th>\n",
       "      <th>address</th>\n",
       "    </tr>\n",
       "  </thead>\n",
       "  <tbody>\n",
       "    <tr>\n",
       "      <th>1</th>\n",
       "      <td>House For Sale</td>\n",
       "      <td>397750.0</td>\n",
       "      <td>4.0</td>\n",
       "      <td>3.0</td>\n",
       "      <td>4170.0</td>\n",
       "      <td>14902 W Black Wolf Run Dr, Carmel, IN</td>\n",
       "    </tr>\n",
       "    <tr>\n",
       "      <th>2</th>\n",
       "      <td>House For Sale</td>\n",
       "      <td>529900.0</td>\n",
       "      <td>5.0</td>\n",
       "      <td>4.0</td>\n",
       "      <td>6697.0</td>\n",
       "      <td>12427 Pebble Knoll Way, Carmel, IN</td>\n",
       "    </tr>\n",
       "    <tr>\n",
       "      <th>4</th>\n",
       "      <td>House For Sale</td>\n",
       "      <td>849900.0</td>\n",
       "      <td>5.0</td>\n",
       "      <td>6.0</td>\n",
       "      <td>7348.0</td>\n",
       "      <td>5041 Deer Ridge Ct, Carmel, IN</td>\n",
       "    </tr>\n",
       "    <tr>\n",
       "      <th>11</th>\n",
       "      <td>House For Sale</td>\n",
       "      <td>429900.0</td>\n",
       "      <td>3.0</td>\n",
       "      <td>3.0</td>\n",
       "      <td>4554.0</td>\n",
       "      <td>14200 Arcadian Cir, Carmel, IN</td>\n",
       "    </tr>\n",
       "    <tr>\n",
       "      <th>12</th>\n",
       "      <td>House For Sale</td>\n",
       "      <td>188000.0</td>\n",
       "      <td>3.0</td>\n",
       "      <td>3.0</td>\n",
       "      <td>1160.0</td>\n",
       "      <td>11783 Esty Way, Carmel, IN</td>\n",
       "    </tr>\n",
       "  </tbody>\n",
       "</table>\n",
       "</div>"
      ],
      "text/plain": [
       "            status     price  bed  bath    size  \\\n",
       "1   House For Sale  397750.0  4.0   3.0  4170.0   \n",
       "2   House For Sale  529900.0  5.0   4.0  6697.0   \n",
       "4   House For Sale  849900.0  5.0   6.0  7348.0   \n",
       "11  House For Sale  429900.0  3.0   3.0  4554.0   \n",
       "12  House For Sale  188000.0  3.0   3.0  1160.0   \n",
       "\n",
       "                                  address  \n",
       "1   14902 W Black Wolf Run Dr, Carmel, IN  \n",
       "2      12427 Pebble Knoll Way, Carmel, IN  \n",
       "4          5041 Deer Ridge Ct, Carmel, IN  \n",
       "11         14200 Arcadian Cir, Carmel, IN  \n",
       "12             11783 Esty Way, Carmel, IN  "
      ]
     },
     "execution_count": 153,
     "metadata": {},
     "output_type": "execute_result"
    }
   ],
   "source": [
    "df_sale.head()"
   ]
  }
 ],
 "metadata": {
  "kernelspec": {
   "display_name": "Python [conda root]",
   "language": "python",
   "name": "conda-root-py"
  },
  "language_info": {
   "codemirror_mode": {
    "name": "ipython",
    "version": 2
   },
   "file_extension": ".py",
   "mimetype": "text/x-python",
   "name": "python",
   "nbconvert_exporter": "python",
   "pygments_lexer": "ipython2",
   "version": "2.7.13"
  }
 },
 "nbformat": 4,
 "nbformat_minor": 2
}
