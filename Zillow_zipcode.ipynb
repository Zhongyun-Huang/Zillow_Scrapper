{
 "cells": [
  {
   "cell_type": "markdown",
   "metadata": {},
   "source": [
    "# Zillow for a Zipcode\n"
   ]
  },
  {
   "cell_type": "markdown",
   "metadata": {},
   "source": [
    "This tool allows users to enter a zipcode, and see the following stats on Zillow:\n",
    "(1) Mean size in sqft of all properties\n",
    "(2) Mean no. of bedrooms\n",
    "(3) Mean price per sqft for houses on sale\n",
    "(4) Mean price per bedroom for houses on sale\n",
    "(5) Mean rent\n",
    "(6) Rent vs buy"
   ]
  },
  {
   "cell_type": "code",
   "execution_count": 1,
   "metadata": {
    "collapsed": false
   },
   "outputs": [
    {
     "name": "stdout",
     "output_type": "stream",
     "text": [
      "Requirement already satisfied: beautifulsoup4 in /Users/zybell/anaconda2/lib/python2.7/site-packages\r\n"
     ]
    }
   ],
   "source": [
    "## Import beautiful soup to scrape data from Zillow\n",
    "!pip install beautifulsoup4\n",
    "import requests\n",
    "from bs4 import BeautifulSoup"
   ]
  },
  {
   "cell_type": "code",
   "execution_count": 2,
   "metadata": {
    "collapsed": true
   },
   "outputs": [],
   "source": [
    "## Import pandas and plotting tools\n",
    "import pandas as pd\n",
    "import numpy as np\n",
    "import seaborn as sns\n",
    "import matplotlib as mpl\n",
    "import matplotlib.pyplot as plt\n",
    "import seaborn as sns\n",
    "%matplotlib inline"
   ]
  },
  {
   "cell_type": "code",
   "execution_count": 3,
   "metadata": {
    "collapsed": false
   },
   "outputs": [],
   "source": [
    "# Make a property dataframe for a zipcode with beautiful soup scraper\n",
    "# The scraper uses a loop to loop through all pages containing the result\n",
    "def zip_dataframe(zipcode):\n",
    "    #zipcode = raw_input(\" Type a zipcode \")\n",
    "    property_list=[]\n",
    "    count = 1\n",
    "    url = \"https://www.zillow.com/homes/\"+zipcode +\"_rb/\"+ str(count) +'_p/'\n",
    "    req = requests.get(url)\n",
    "    soup = BeautifulSoup(req.content) #make a soup for each url\n",
    "    prop_info = soup.find_all(\"div\",{\"class\":\"zsg-photo-card-caption\"})\n",
    "\n",
    "    while soup.find_all(\"li\", {'class':'zsg-pagination-next'}):\n",
    "        '''keep running the loop if there is a next bottom\n",
    "        Save all items in the new page to the property_list'''\n",
    "        for item in prop_info:\n",
    "            for i in item.find_all(\"span\"):\n",
    "                if i.get('class')==['zsg-photo-card-status']:\n",
    "                    try: \n",
    "                        status = i.text\n",
    "                    except:\n",
    "                        status = 'NA'               \n",
    "                if i.get('class')==['zsg-photo-card-price']:\n",
    "                    try:\n",
    "                        price = float(i.text.replace(\"$\",\"\").replace(\"/mo\",\"\").replace(\",\",\"\").replace(\"+\",\"\"))\n",
    "                    except:\n",
    "                        price = 0.0\n",
    "                    #print price\n",
    "                if i.get('class')==['zsg-photo-card-info']:\n",
    "                    info = i.text.replace(\"Studio\",\"0.5 bd\")\n",
    "                    try:\n",
    "                        bed = float(info.split()[0]) \n",
    "                    except:\n",
    "                        bed = 0.0\n",
    "                    try:\n",
    "                        bath = float(info.split()[3])\n",
    "                    except:\n",
    "                        bath = 0.0\n",
    "                    try:\n",
    "                        size = float(info.split()[6].replace(\"--\",\"0\").replace(\"sqft\",\"0\").replace(\",\",\"\").replace(\"+\",\"\"))\n",
    "                    except:\n",
    "                        size = 0.0\n",
    "                if i.get('class')==['zsg-photo-card-address']:\n",
    "                    try:\n",
    "                        address = i.text\n",
    "                    except:\n",
    "                        address = ''\n",
    "            prop=[status, price, bed, bath, size, address]\n",
    "            property_list.append(prop)\n",
    "        \n",
    "        #Make a new soup if the next page exists    \n",
    "        count = count + 1\n",
    "        url = \"https://www.zillow.com/homes/\"+zipcode +\"_rb/\"+ str(count) +'_p/'\n",
    "        req = requests.get(url)\n",
    "        soup = BeautifulSoup(req.content) #make a soup for each url\n",
    "        prop_info = soup.find_all(\"div\",{\"class\":\"zsg-photo-card-caption\"})\n",
    "        \n",
    "    #End the loop for multiple pages of search results, and make a dataframe   \n",
    "    labels = ['status','price','bed','bath','size','address']\n",
    "    zipcode_df = pd.DataFrame.from_records(property_list, columns = labels)\n",
    "    return zipcode_df\n",
    "\n",
    "#print ' There are ' + str(len(property_list)) + \" properties listed in the zipcode of \" + zipcode"
   ]
  },
  {
   "cell_type": "code",
   "execution_count": 4,
   "metadata": {
    "collapsed": false
   },
   "outputs": [
    {
     "name": "stderr",
     "output_type": "stream",
     "text": [
      "/Users/zybell/anaconda2/lib/python2.7/site-packages/bs4/__init__.py:181: UserWarning: No parser was explicitly specified, so I'm using the best available HTML parser for this system (\"lxml\"). This usually isn't a problem, but if you run this code on another system, or in a different virtual environment, it may use a different parser and behave differently.\n",
      "\n",
      "The code that caused this warning is on line 174 of the file /Users/zybell/anaconda2/lib/python2.7/runpy.py. To get rid of this warning, change code that looks like this:\n",
      "\n",
      " BeautifulSoup([your markup])\n",
      "\n",
      "to this:\n",
      "\n",
      " BeautifulSoup([your markup], \"lxml\")\n",
      "\n",
      "  markup_type=markup_type))\n"
     ]
    }
   ],
   "source": [
    "zip_02420 = zip_dataframe('02420')"
   ]
  },
  {
   "cell_type": "code",
   "execution_count": 8,
   "metadata": {
    "collapsed": false
   },
   "outputs": [],
   "source": [
    "zip_02148 = zip_dataframe('02148')"
   ]
  },
  {
   "cell_type": "code",
   "execution_count": 9,
   "metadata": {
    "collapsed": false
   },
   "outputs": [
    {
     "data": {
      "text/html": [
       "<div>\n",
       "<table border=\"1\" class=\"dataframe\">\n",
       "  <thead>\n",
       "    <tr style=\"text-align: right;\">\n",
       "      <th></th>\n",
       "      <th>status</th>\n",
       "      <th>price</th>\n",
       "      <th>bed</th>\n",
       "      <th>bath</th>\n",
       "      <th>size</th>\n",
       "      <th>address</th>\n",
       "    </tr>\n",
       "  </thead>\n",
       "  <tbody>\n",
       "    <tr>\n",
       "      <th>0</th>\n",
       "      <td>Apartment For Rent</td>\n",
       "      <td>1400.0</td>\n",
       "      <td>0.5</td>\n",
       "      <td>1.0</td>\n",
       "      <td>500.0</td>\n",
       "      <td>20 Washington Pl # ID, Malden, MA</td>\n",
       "    </tr>\n",
       "    <tr>\n",
       "      <th>1</th>\n",
       "      <td>For Rent</td>\n",
       "      <td>1400.0</td>\n",
       "      <td>0.0</td>\n",
       "      <td>0.0</td>\n",
       "      <td>0.0</td>\n",
       "      <td>2 Webster St, Malden, MA</td>\n",
       "    </tr>\n",
       "    <tr>\n",
       "      <th>2</th>\n",
       "      <td>House For Sale</td>\n",
       "      <td>449900.0</td>\n",
       "      <td>3.0</td>\n",
       "      <td>4.0</td>\n",
       "      <td>1846.0</td>\n",
       "      <td>12 Centennial Cir, Malden, MA</td>\n",
       "    </tr>\n",
       "    <tr>\n",
       "      <th>3</th>\n",
       "      <td>Condo For Rent</td>\n",
       "      <td>1200.0</td>\n",
       "      <td>1.0</td>\n",
       "      <td>1.0</td>\n",
       "      <td>960.0</td>\n",
       "      <td>260 Main St, Malden, MA</td>\n",
       "    </tr>\n",
       "    <tr>\n",
       "      <th>4</th>\n",
       "      <td>Apartment For Rent</td>\n",
       "      <td>1300.0</td>\n",
       "      <td>1.0</td>\n",
       "      <td>1.0</td>\n",
       "      <td>0.0</td>\n",
       "      <td>Fellsway E, Malden, MA</td>\n",
       "    </tr>\n",
       "  </tbody>\n",
       "</table>\n",
       "</div>"
      ],
      "text/plain": [
       "               status     price  bed  bath    size  \\\n",
       "0  Apartment For Rent    1400.0  0.5   1.0   500.0   \n",
       "1            For Rent    1400.0  0.0   0.0     0.0   \n",
       "2      House For Sale  449900.0  3.0   4.0  1846.0   \n",
       "3      Condo For Rent    1200.0  1.0   1.0   960.0   \n",
       "4  Apartment For Rent    1300.0  1.0   1.0     0.0   \n",
       "\n",
       "                             address  \n",
       "0  20 Washington Pl # ID, Malden, MA  \n",
       "1           2 Webster St, Malden, MA  \n",
       "2      12 Centennial Cir, Malden, MA  \n",
       "3            260 Main St, Malden, MA  \n",
       "4             Fellsway E, Malden, MA  "
      ]
     },
     "execution_count": 9,
     "metadata": {},
     "output_type": "execute_result"
    }
   ],
   "source": [
    "zip_02148.head()"
   ]
  },
  {
   "cell_type": "code",
   "execution_count": 10,
   "metadata": {
    "collapsed": false
   },
   "outputs": [
    {
     "data": {
      "text/html": [
       "<div>\n",
       "<table border=\"1\" class=\"dataframe\">\n",
       "  <thead>\n",
       "    <tr style=\"text-align: right;\">\n",
       "      <th></th>\n",
       "      <th>status</th>\n",
       "      <th>price</th>\n",
       "      <th>bed</th>\n",
       "      <th>bath</th>\n",
       "      <th>size</th>\n",
       "      <th>address</th>\n",
       "    </tr>\n",
       "  </thead>\n",
       "  <tbody>\n",
       "    <tr>\n",
       "      <th>0</th>\n",
       "      <td>Apartment For Rent</td>\n",
       "      <td>2200.0</td>\n",
       "      <td>1.0</td>\n",
       "      <td>1.0</td>\n",
       "      <td>800.0</td>\n",
       "      <td>2 Opi Cir # 2B, Lexington, MA</td>\n",
       "    </tr>\n",
       "    <tr>\n",
       "      <th>1</th>\n",
       "      <td>Apartment For Rent</td>\n",
       "      <td>4500.0</td>\n",
       "      <td>3.0</td>\n",
       "      <td>1.0</td>\n",
       "      <td>0.0</td>\n",
       "      <td>Mass Ave, Lexington, MA</td>\n",
       "    </tr>\n",
       "    <tr>\n",
       "      <th>2</th>\n",
       "      <td>House For Sale</td>\n",
       "      <td>1475000.0</td>\n",
       "      <td>6.0</td>\n",
       "      <td>5.0</td>\n",
       "      <td>4000.0</td>\n",
       "      <td>22 Vine St, Lexington, MA</td>\n",
       "    </tr>\n",
       "    <tr>\n",
       "      <th>3</th>\n",
       "      <td>Apartment For Rent</td>\n",
       "      <td>4000.0</td>\n",
       "      <td>3.0</td>\n",
       "      <td>2.0</td>\n",
       "      <td>1727.0</td>\n",
       "      <td>38 Tyler Rd # 0, Lexington, MA</td>\n",
       "    </tr>\n",
       "    <tr>\n",
       "      <th>4</th>\n",
       "      <td>House For Sale</td>\n",
       "      <td>2698000.0</td>\n",
       "      <td>6.0</td>\n",
       "      <td>8.0</td>\n",
       "      <td>7667.0</td>\n",
       "      <td>71 Adams St, Lexington, MA</td>\n",
       "    </tr>\n",
       "  </tbody>\n",
       "</table>\n",
       "</div>"
      ],
      "text/plain": [
       "               status      price  bed  bath    size  \\\n",
       "0  Apartment For Rent     2200.0  1.0   1.0   800.0   \n",
       "1  Apartment For Rent     4500.0  3.0   1.0     0.0   \n",
       "2      House For Sale  1475000.0  6.0   5.0  4000.0   \n",
       "3  Apartment For Rent     4000.0  3.0   2.0  1727.0   \n",
       "4      House For Sale  2698000.0  6.0   8.0  7667.0   \n",
       "\n",
       "                          address  \n",
       "0   2 Opi Cir # 2B, Lexington, MA  \n",
       "1         Mass Ave, Lexington, MA  \n",
       "2       22 Vine St, Lexington, MA  \n",
       "3  38 Tyler Rd # 0, Lexington, MA  \n",
       "4      71 Adams St, Lexington, MA  "
      ]
     },
     "execution_count": 10,
     "metadata": {},
     "output_type": "execute_result"
    }
   ],
   "source": [
    "zip_02420.head()"
   ]
  },
  {
   "cell_type": "code",
   "execution_count": 11,
   "metadata": {
    "collapsed": false
   },
   "outputs": [
    {
     "data": {
      "text/plain": [
       "House For Sale               18\n",
       "Apartment For Rent           15\n",
       "House For Rent                9\n",
       "Condo For Rent                2\n",
       "Make Me Move®                 1\n",
       "Lot/Land For Sale             1\n",
       "Pre-Foreclosure               1\n",
       "Foreclosed                    1\n",
       "Condo For Sale                1\n",
       "For Sale by Owner             1\n",
       "Townhouse For Rent            1\n",
       "Pre-Foreclosure (Auction)     1\n",
       "Name: status, dtype: int64"
      ]
     },
     "execution_count": 11,
     "metadata": {},
     "output_type": "execute_result"
    }
   ],
   "source": [
    "zip_02420.status.value_counts()"
   ]
  },
  {
   "cell_type": "code",
   "execution_count": 12,
   "metadata": {
    "collapsed": true
   },
   "outputs": [],
   "source": [
    "## Make a sub-dataframe for \"for_sale\" items in the same zipcode\n",
    "def for_sale(dataframe): #enter the name of a dataframe\n",
    "    df_for_sale = dataframe[dataframe.status == \"House For Sale\"]\n",
    "    return df_for_sale\n",
    "## Make a sub-dataframe for \"for_rent\" items in the same zipcode\n",
    "def for_rent(dataframe): #enter the name of a dataframe\n",
    "    df_for_rent = dataframe[dataframe.status == \"House For Rent\"]\n",
    "    return df_for_rent"
   ]
  },
  {
   "cell_type": "code",
   "execution_count": 13,
   "metadata": {
    "collapsed": false
   },
   "outputs": [
    {
     "data": {
      "text/html": [
       "<div>\n",
       "<table border=\"1\" class=\"dataframe\">\n",
       "  <thead>\n",
       "    <tr style=\"text-align: right;\">\n",
       "      <th></th>\n",
       "      <th>status</th>\n",
       "      <th>price</th>\n",
       "      <th>bed</th>\n",
       "      <th>bath</th>\n",
       "      <th>size</th>\n",
       "      <th>address</th>\n",
       "    </tr>\n",
       "  </thead>\n",
       "  <tbody>\n",
       "    <tr>\n",
       "      <th>2</th>\n",
       "      <td>House For Sale</td>\n",
       "      <td>449900.0</td>\n",
       "      <td>3.0</td>\n",
       "      <td>4.0</td>\n",
       "      <td>1846.0</td>\n",
       "      <td>12 Centennial Cir, Malden, MA</td>\n",
       "    </tr>\n",
       "    <tr>\n",
       "      <th>18</th>\n",
       "      <td>House For Sale</td>\n",
       "      <td>379900.0</td>\n",
       "      <td>3.0</td>\n",
       "      <td>2.0</td>\n",
       "      <td>1123.0</td>\n",
       "      <td>23 Poplar St, Malden, MA</td>\n",
       "    </tr>\n",
       "    <tr>\n",
       "      <th>64</th>\n",
       "      <td>House For Sale</td>\n",
       "      <td>675000.0</td>\n",
       "      <td>5.0</td>\n",
       "      <td>4.0</td>\n",
       "      <td>3081.0</td>\n",
       "      <td>76 Tea Party Way, Malden, MA</td>\n",
       "    </tr>\n",
       "    <tr>\n",
       "      <th>116</th>\n",
       "      <td>House For Sale</td>\n",
       "      <td>539900.0</td>\n",
       "      <td>5.0</td>\n",
       "      <td>2.0</td>\n",
       "      <td>1981.0</td>\n",
       "      <td>45 Fairview Ter, Malden, MA</td>\n",
       "    </tr>\n",
       "    <tr>\n",
       "      <th>141</th>\n",
       "      <td>House For Sale</td>\n",
       "      <td>399900.0</td>\n",
       "      <td>3.0</td>\n",
       "      <td>1.0</td>\n",
       "      <td>1339.0</td>\n",
       "      <td>167 Bainbridge St, Malden, MA</td>\n",
       "    </tr>\n",
       "  </tbody>\n",
       "</table>\n",
       "</div>"
      ],
      "text/plain": [
       "             status     price  bed  bath    size  \\\n",
       "2    House For Sale  449900.0  3.0   4.0  1846.0   \n",
       "18   House For Sale  379900.0  3.0   2.0  1123.0   \n",
       "64   House For Sale  675000.0  5.0   4.0  3081.0   \n",
       "116  House For Sale  539900.0  5.0   2.0  1981.0   \n",
       "141  House For Sale  399900.0  3.0   1.0  1339.0   \n",
       "\n",
       "                           address  \n",
       "2    12 Centennial Cir, Malden, MA  \n",
       "18        23 Poplar St, Malden, MA  \n",
       "64    76 Tea Party Way, Malden, MA  \n",
       "116    45 Fairview Ter, Malden, MA  \n",
       "141  167 Bainbridge St, Malden, MA  "
      ]
     },
     "execution_count": 13,
     "metadata": {},
     "output_type": "execute_result"
    }
   ],
   "source": [
    "for_sale(zip_02148).head()"
   ]
  },
  {
   "cell_type": "code",
   "execution_count": 14,
   "metadata": {
    "collapsed": false
   },
   "outputs": [
    {
     "data": {
      "text/html": [
       "<div>\n",
       "<table border=\"1\" class=\"dataframe\">\n",
       "  <thead>\n",
       "    <tr style=\"text-align: right;\">\n",
       "      <th></th>\n",
       "      <th>status</th>\n",
       "      <th>price</th>\n",
       "      <th>bed</th>\n",
       "      <th>bath</th>\n",
       "      <th>size</th>\n",
       "      <th>address</th>\n",
       "    </tr>\n",
       "  </thead>\n",
       "  <tbody>\n",
       "    <tr>\n",
       "      <th>14</th>\n",
       "      <td>House For Rent</td>\n",
       "      <td>4000.0</td>\n",
       "      <td>4.0</td>\n",
       "      <td>2.0</td>\n",
       "      <td>1800.0</td>\n",
       "      <td>6 Rolfe Rd, Lexington, MA</td>\n",
       "    </tr>\n",
       "    <tr>\n",
       "      <th>15</th>\n",
       "      <td>House For Rent</td>\n",
       "      <td>3200.0</td>\n",
       "      <td>5.0</td>\n",
       "      <td>2.5</td>\n",
       "      <td>2800.0</td>\n",
       "      <td>223 Grove St, Lexington, MA</td>\n",
       "    </tr>\n",
       "    <tr>\n",
       "      <th>16</th>\n",
       "      <td>House For Rent</td>\n",
       "      <td>4400.0</td>\n",
       "      <td>4.0</td>\n",
       "      <td>2.0</td>\n",
       "      <td>1900.0</td>\n",
       "      <td>5 Lillian Rd, Lexington, MA</td>\n",
       "    </tr>\n",
       "    <tr>\n",
       "      <th>19</th>\n",
       "      <td>House For Rent</td>\n",
       "      <td>2375.0</td>\n",
       "      <td>2.0</td>\n",
       "      <td>1.0</td>\n",
       "      <td>1500.0</td>\n",
       "      <td>Haskell St, Lexington, MA</td>\n",
       "    </tr>\n",
       "    <tr>\n",
       "      <th>24</th>\n",
       "      <td>House For Rent</td>\n",
       "      <td>4200.0</td>\n",
       "      <td>4.0</td>\n",
       "      <td>2.5</td>\n",
       "      <td>0.0</td>\n",
       "      <td>99 Lillian Rd, Lexington, MA</td>\n",
       "    </tr>\n",
       "  </tbody>\n",
       "</table>\n",
       "</div>"
      ],
      "text/plain": [
       "            status   price  bed  bath    size                       address\n",
       "14  House For Rent  4000.0  4.0   2.0  1800.0     6 Rolfe Rd, Lexington, MA\n",
       "15  House For Rent  3200.0  5.0   2.5  2800.0   223 Grove St, Lexington, MA\n",
       "16  House For Rent  4400.0  4.0   2.0  1900.0   5 Lillian Rd, Lexington, MA\n",
       "19  House For Rent  2375.0  2.0   1.0  1500.0     Haskell St, Lexington, MA\n",
       "24  House For Rent  4200.0  4.0   2.5     0.0  99 Lillian Rd, Lexington, MA"
      ]
     },
     "execution_count": 14,
     "metadata": {},
     "output_type": "execute_result"
    }
   ],
   "source": [
    "for_rent(zip_02420).head()"
   ]
  },
  {
   "cell_type": "code",
   "execution_count": 15,
   "metadata": {
    "collapsed": false
   },
   "outputs": [
    {
     "data": {
      "text/plain": [
       "'911.61'"
      ]
     },
     "execution_count": 15,
     "metadata": {},
     "output_type": "execute_result"
    }
   ],
   "source": [
    "# Function one: mean size of houses on list\n",
    "def mean_size(dataframe):\n",
    "    mean_size = dataframe.describe()['size']['mean']\n",
    "    return str(round(mean_size,2))\n",
    "mean_size(zip_02148)"
   ]
  },
  {
   "cell_type": "code",
   "execution_count": 16,
   "metadata": {
    "collapsed": false
   },
   "outputs": [
    {
     "name": "stdout",
     "output_type": "stream",
     "text": [
      "1.83\n"
     ]
    }
   ],
   "source": [
    "# Function two: mean no. of bedrooms for houses on list\n",
    "def mean_bed(dataframe):\n",
    "    mean_bed = dataframe.describe()['bed']['mean']\n",
    "    return str(round(mean_bed,2))\n",
    "print mean_bed(zip_02148)"
   ]
  },
  {
   "cell_type": "code",
   "execution_count": 17,
   "metadata": {
    "collapsed": false
   },
   "outputs": [
    {
     "data": {
      "text/plain": [
       "'1.26'"
      ]
     },
     "execution_count": 17,
     "metadata": {},
     "output_type": "execute_result"
    }
   ],
   "source": [
    "# Function three: mean no. of bathrooms for houses on list\n",
    "def mean_bath(dataframe):\n",
    "    mean_bath = dataframe.describe()['bath']['mean']\n",
    "    return str(round(mean_bath,2))\n",
    "mean_bath(zip_02148)"
   ]
  },
  {
   "cell_type": "code",
   "execution_count": 18,
   "metadata": {
    "collapsed": false
   },
   "outputs": [
    {
     "data": {
      "text/plain": [
       "'265.19'"
      ]
     },
     "execution_count": 18,
     "metadata": {},
     "output_type": "execute_result"
    }
   ],
   "source": [
    "# Function four: mean price per square feet [for House for Sale only]\n",
    "def mean_price_per_sqft_SALE(dataframe):\n",
    "    mean_price_p_sqft = for_sale(dataframe).describe()['price']['mean']/for_sale(dataframe).describe()['size']['mean']\n",
    "    return str(round(mean_price_p_sqft,2))\n",
    "mean_price_per_sqft_SALE(zip_02148)"
   ]
  },
  {
   "cell_type": "code",
   "execution_count": 19,
   "metadata": {
    "collapsed": false
   },
   "outputs": [
    {
     "data": {
      "text/plain": [
       "'136243.88'"
      ]
     },
     "execution_count": 19,
     "metadata": {},
     "output_type": "execute_result"
    }
   ],
   "source": [
    "# Function five: mean price per bedroom [for House for Sale only]\n",
    "def mean_price_per_bd_SALE(dataframe):\n",
    "    mean_price_p_bd = for_sale(dataframe).describe()['price']['mean']/for_sale(dataframe).describe()['bed']['mean']\n",
    "    return str(round(mean_price_p_bd,2))\n",
    "mean_price_per_bd_SALE(zip_02148)"
   ]
  },
  {
   "cell_type": "code",
   "execution_count": 21,
   "metadata": {
    "collapsed": false
   },
   "outputs": [
    {
     "name": "stdout",
     "output_type": "stream",
     "text": [
      "2148.57143\n"
     ]
    }
   ],
   "source": [
    "# Function six: mean rent \n",
    "def mean_rent(dataframe):\n",
    "    mean_rent = float(for_rent(dataframe).describe()['price']['mean'])\n",
    "    return str(round(mean_rent,5))\n",
    "print mean_rent(zip_02148)"
   ]
  },
  {
   "cell_type": "code",
   "execution_count": 22,
   "metadata": {
    "collapsed": false
   },
   "outputs": [
    {
     "name": "stdout",
     "output_type": "stream",
     "text": [
      "0.00441\n"
     ]
    }
   ],
   "source": [
    "# Function seven: rent vs buy ratio\n",
    "def rent_vs_buy(dataframe):\n",
    "    mean_price_sale = int(for_sale(dataframe).describe()['price']['mean'])\n",
    "    mean_price_rent = int(for_rent(dataframe).describe()['price']['mean'])\n",
    "    rent_vs_buy = float(mean_price_rent)/float(mean_price_sale)\n",
    "    return str(round(rent_vs_buy,5))\n",
    "print rent_vs_buy(zip_02148)"
   ]
  },
  {
   "cell_type": "code",
   "execution_count": 24,
   "metadata": {
    "collapsed": false
   },
   "outputs": [
    {
     "data": {
      "text/html": [
       "<div>\n",
       "<table border=\"1\" class=\"dataframe\">\n",
       "  <thead>\n",
       "    <tr style=\"text-align: right;\">\n",
       "      <th></th>\n",
       "      <th>02148</th>\n",
       "      <th>02420</th>\n",
       "    </tr>\n",
       "  </thead>\n",
       "  <tbody>\n",
       "    <tr>\n",
       "      <th>mean_size</th>\n",
       "      <td>911.61</td>\n",
       "      <td>2583.12</td>\n",
       "    </tr>\n",
       "    <tr>\n",
       "      <th>mean_bed</th>\n",
       "      <td>1.83</td>\n",
       "      <td>3.63</td>\n",
       "    </tr>\n",
       "    <tr>\n",
       "      <th>mean_price_per_sqft</th>\n",
       "      <td>265.19</td>\n",
       "      <td>394.58</td>\n",
       "    </tr>\n",
       "    <tr>\n",
       "      <th>mean_price_per_bd</th>\n",
       "      <td>136243.88</td>\n",
       "      <td>373479.59</td>\n",
       "    </tr>\n",
       "    <tr>\n",
       "      <th>mean_rent</th>\n",
       "      <td>2148.57143</td>\n",
       "      <td>3850.0</td>\n",
       "    </tr>\n",
       "    <tr>\n",
       "      <th>rent_vs_buy</th>\n",
       "      <td>0.00441</td>\n",
       "      <td>0.00189</td>\n",
       "    </tr>\n",
       "  </tbody>\n",
       "</table>\n",
       "</div>"
      ],
      "text/plain": [
       "                          02148      02420\n",
       "mean_size                911.61    2583.12\n",
       "mean_bed                   1.83       3.63\n",
       "mean_price_per_sqft      265.19     394.58\n",
       "mean_price_per_bd     136243.88  373479.59\n",
       "mean_rent            2148.57143     3850.0\n",
       "rent_vs_buy             0.00441    0.00189"
      ]
     },
     "execution_count": 24,
     "metadata": {},
     "output_type": "execute_result"
    }
   ],
   "source": [
    "# Make a new dataframe to compare among zipcodes\n",
    "zip1 = '02148'\n",
    "zip2 = '02420'\n",
    "rowname = ['mean_size','mean_bed','mean_price_per_sqft','mean_price_per_bd','mean_rent','rent_vs_buy']\n",
    "zip_frame = pd.DataFrame(\n",
    "                         {zip1: [mean_size(zip_02148),\\\n",
    "                            mean_bed(zip_02148),\\\n",
    "                            mean_price_per_sqft_SALE(zip_02148),\\\n",
    "                            mean_price_per_bd_SALE(zip_02148),\\\n",
    "                            mean_rent(zip_02148),\\\n",
    "                            rent_vs_buy(zip_02148)],\\\n",
    "                          zip2: [mean_size(zip_02420),\\\n",
    "                            mean_bed(zip_02420),\\\n",
    "                            mean_price_per_sqft_SALE(zip_02420),\\\n",
    "                            mean_price_per_bd_SALE(zip_02420),\\\n",
    "                            mean_rent(zip_02420),\\\n",
    "                            rent_vs_buy(zip_02420)]}\n",
    "                        )\n",
    "zip_frame.index = rowname\n",
    "zip_frame"
   ]
  }
 ],
 "metadata": {
  "kernelspec": {
   "display_name": "Python [conda root]",
   "language": "python",
   "name": "conda-root-py"
  },
  "language_info": {
   "codemirror_mode": {
    "name": "ipython",
    "version": 2
   },
   "file_extension": ".py",
   "mimetype": "text/x-python",
   "name": "python",
   "nbconvert_exporter": "python",
   "pygments_lexer": "ipython2",
   "version": "2.7.13"
  }
 },
 "nbformat": 4,
 "nbformat_minor": 2
}
